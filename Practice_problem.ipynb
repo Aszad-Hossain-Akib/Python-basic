{
  "nbformat": 4,
  "nbformat_minor": 0,
  "metadata": {
    "colab": {
      "provenance": [],
      "authorship_tag": "ABX9TyN4mhSaokl9sQ4v4K2MslXO",
      "include_colab_link": true
    },
    "kernelspec": {
      "name": "python3",
      "display_name": "Python 3"
    },
    "language_info": {
      "name": "python"
    }
  },
  "cells": [
    {
      "cell_type": "markdown",
      "metadata": {
        "id": "view-in-github",
        "colab_type": "text"
      },
      "source": [
        "<a href=\"https://colab.research.google.com/github/Aszad-Hossain-Akib/Python-basic/blob/main/Practice_problem.ipynb\" target=\"_parent\"><img src=\"https://colab.research.google.com/assets/colab-badge.svg\" alt=\"Open In Colab\"/></a>"
      ]
    },
    {
      "cell_type": "markdown",
      "source": [
        "Create a variable to store your name and print a greeting message using that variable"
      ],
      "metadata": {
        "id": "j6ShIGGdVRTU"
      }
    },
    {
      "cell_type": "code",
      "execution_count": 6,
      "metadata": {
        "colab": {
          "base_uri": "https://localhost:8080/"
        },
        "id": "VLQgDZhMVDXe",
        "outputId": "6a5e2967-667c-457d-8726-3d786ddbbd22"
      },
      "outputs": [
        {
          "output_type": "stream",
          "name": "stdout",
          "text": [
            "Name\n",
            "Aszad Hossain Akib\n",
            "Welcome  Aszad Hossain Akib\n"
          ]
        }
      ],
      "source": [
        "print('Name')\n",
        "name = str(input())\n",
        "print('Welcome ',name)"
      ]
    },
    {
      "cell_type": "markdown",
      "source": [
        "Write a program to check if a given number is even or odd using an if statement"
      ],
      "metadata": {
        "id": "wuXjV5elVWUV"
      }
    },
    {
      "cell_type": "code",
      "source": [
        "x = int(input())\n",
        "if x%2==0:\n",
        "  print(\"Number is even\")\n",
        "else:\n",
        "  print(\"Number is odd\")"
      ],
      "metadata": {
        "colab": {
          "base_uri": "https://localhost:8080/"
        },
        "id": "WDgpGOmgViyr",
        "outputId": "d0f0a9dc-ba8e-457d-9ada-386d6948f6de"
      },
      "execution_count": 9,
      "outputs": [
        {
          "output_type": "stream",
          "name": "stdout",
          "text": [
            "1020\n",
            "Number is even\n"
          ]
        }
      ]
    },
    {
      "cell_type": "markdown",
      "source": [
        "Declare two variables with numerical values. Use comparison operators to check which number is larger."
      ],
      "metadata": {
        "id": "WCbEL-ORVZyT"
      }
    },
    {
      "cell_type": "code",
      "source": [
        "x = 2\n",
        "y = 3\n",
        "if x>y:\n",
        "  print('X is greater than y')\n",
        "else:\n",
        "  print('Y is greater than x')\n"
      ],
      "metadata": {
        "colab": {
          "base_uri": "https://localhost:8080/"
        },
        "id": "XEx68YDBVjoz",
        "outputId": "74fa9107-d27a-4422-8ca8-92cedeae966e"
      },
      "execution_count": 10,
      "outputs": [
        {
          "output_type": "stream",
          "name": "stdout",
          "text": [
            "Y is greater than x\n"
          ]
        }
      ]
    },
    {
      "cell_type": "markdown",
      "source": [
        "Write a Python program that calculates the area of a rectangle. Take length and width as input from the user"
      ],
      "metadata": {
        "id": "7uSPodp-VkRw"
      }
    },
    {
      "cell_type": "code",
      "source": [
        "x = 2\n",
        "y = 3\n",
        "area = x*y\n",
        "print('Area of Rectangke=',area)"
      ],
      "metadata": {
        "colab": {
          "base_uri": "https://localhost:8080/"
        },
        "id": "r0P3ew-GVnNr",
        "outputId": "83af821c-3fac-46ea-8f9d-550194becec1"
      },
      "execution_count": 11,
      "outputs": [
        {
          "output_type": "stream",
          "name": "stdout",
          "text": [
            "Area of Rectangke= 6\n"
          ]
        }
      ]
    },
    {
      "cell_type": "markdown",
      "source": [
        "Use a for loop to print all numbers from 1 to 20 that are divisible by 3"
      ],
      "metadata": {
        "id": "dTQDgrAUVnx9"
      }
    },
    {
      "cell_type": "code",
      "source": [
        "x = 1\n",
        "for x in range(1,21):\n",
        "  if x % 3 == 0:\n",
        "    print(x)"
      ],
      "metadata": {
        "colab": {
          "base_uri": "https://localhost:8080/"
        },
        "id": "bC44XNzDaTIT",
        "outputId": "29bad15b-11ba-4422-f83c-d8132ccfdfa8"
      },
      "execution_count": 17,
      "outputs": [
        {
          "output_type": "stream",
          "name": "stdout",
          "text": [
            "3\n",
            "6\n",
            "9\n",
            "12\n",
            "15\n",
            "18\n"
          ]
        }
      ]
    },
    {
      "cell_type": "markdown",
      "source": [
        "Write a program that continues to ask the user for input until they type 'exit'. Use a while loop and a break statement."
      ],
      "metadata": {
        "id": "qEUQDIWdcIuO"
      }
    },
    {
      "cell_type": "code",
      "source": [
        "while True:\n",
        "  type = input('Enter something: ')\n",
        "  if type =='exit'\n",
        "    break\n",
        "  print('You entered:',type)\n"
      ],
      "metadata": {
        "colab": {
          "base_uri": "https://localhost:8080/"
        },
        "id": "RshqKp1ddcrp",
        "outputId": "ff7c2bd3-d7b6-4479-a2d3-596a702dd49e"
      },
      "execution_count": 20,
      "outputs": [
        {
          "name": "stdout",
          "output_type": "stream",
          "text": [
            "Enter something (or 'exit' to quit): theh\n",
            "You entered: theh\n",
            "Enter something (or 'exit' to quit): sagsagas\n",
            "You entered: sagsagas\n",
            "Enter something (or 'exit' to quit): sadgsdg\n",
            "You entered: sadgsdg\n",
            "Enter something (or 'exit' to quit): dsgasdgad\n",
            "You entered: dsgasdgad\n",
            "Enter something (or 'exit' to quit): dsagsdgsfdbhsdf\n",
            "You entered: dsagsdgsfdbhsdf\n",
            "Enter something (or 'exit' to quit): zxvzxv\n",
            "You entered: zxvzxv\n",
            "Enter something (or 'exit' to quit): zdgvadgv\n",
            "You entered: zdgvadgv\n",
            "Enter something (or 'exit' to quit): adgadg\n",
            "You entered: adgadg\n",
            "Enter something (or 'exit' to quit): adadg\n",
            "You entered: adadg\n",
            "Enter something (or 'exit' to quit): exit\n"
          ]
        }
      ]
    },
    {
      "cell_type": "markdown",
      "source": [
        "Create a program that takes a string as input and prints whether it starts with the letter 'A' (case insensitive)."
      ],
      "metadata": {
        "id": "PRmGeN32eF2z"
      }
    },
    {
      "cell_type": "code",
      "source": [
        "input_string = input(\"Enter a string: \")\n",
        "input_string = input_string.lower()\n",
        "\n",
        "if input_string[0:1] == 'a':\n",
        "  print(\"The string starts with 'A'.\")\n",
        "else:\n",
        "  print(\"The string does not start with 'A'.\")\n",
        "\n"
      ],
      "metadata": {
        "colab": {
          "base_uri": "https://localhost:8080/"
        },
        "id": "lGOSeGrmcZ_N",
        "outputId": "6c8410bd-37c0-412a-af14-54feb36f4f46"
      },
      "execution_count": 22,
      "outputs": [
        {
          "output_type": "stream",
          "name": "stdout",
          "text": [
            "Enter a string: Aszad Hossain Akib\n",
            "The string starts with 'A'.\n"
          ]
        }
      ]
    },
    {
      "cell_type": "markdown",
      "source": [
        "Write a Python program to calculate the factorial of a number using a while loop"
      ],
      "metadata": {
        "id": "YCDy8m-NgZjr"
      }
    },
    {
      "cell_type": "code",
      "source": [
        "x = int(input())\n",
        "factorial = 1\n",
        "i = 1\n",
        "while i <= x:\n",
        "  factorial *= i\n",
        "  i += 1\n",
        "factorial\n"
      ],
      "metadata": {
        "colab": {
          "base_uri": "https://localhost:8080/"
        },
        "id": "R1hiHHqeg7rk",
        "outputId": "deca7820-b41a-4223-a94c-78a945236107"
      },
      "execution_count": 27,
      "outputs": [
        {
          "name": "stdout",
          "output_type": "stream",
          "text": [
            "3\n"
          ]
        },
        {
          "output_type": "execute_result",
          "data": {
            "text/plain": [
              "6"
            ]
          },
          "metadata": {},
          "execution_count": 27
        }
      ]
    },
    {
      "cell_type": "markdown",
      "source": [
        "Demonstrate operator precedence by calculating the value of the expression: 5 + 3 * 2 - 8 / 4."
      ],
      "metadata": {
        "id": "UY4cfjabi7Sx"
      }
    },
    {
      "cell_type": "code",
      "source": [
        "print(5 + 3 * 2 - 8 / 4)"
      ],
      "metadata": {
        "colab": {
          "base_uri": "https://localhost:8080/"
        },
        "id": "7f7STFOUi8cw",
        "outputId": "559f8aa2-5dcf-4143-eb3d-5cc62824230c"
      },
      "execution_count": 28,
      "outputs": [
        {
          "output_type": "stream",
          "name": "stdout",
          "text": [
            "9.0\n"
          ]
        }
      ]
    },
    {
      "cell_type": "markdown",
      "source": [
        "Use math functions to calculate the square root of a number and round it to 2 decimal places. Take the number as input from the user."
      ],
      "metadata": {
        "id": "6a-Rotm5jjYJ"
      }
    },
    {
      "cell_type": "code",
      "source": [
        "import math\n",
        "x = float(input())\n",
        "y = math.sqrt(x)\n",
        "print(y)\n",
        "z = round(y,2)\n",
        "print(z)\n",
        "\n"
      ],
      "metadata": {
        "colab": {
          "base_uri": "https://localhost:8080/"
        },
        "id": "eMR1BqDMjdQf",
        "outputId": "2efe856d-49ae-4fd4-f872-7cf89989de3f"
      },
      "execution_count": 30,
      "outputs": [
        {
          "output_type": "stream",
          "name": "stdout",
          "text": [
            "356\n",
            "18.867962264113206\n",
            "18.87\n"
          ]
        }
      ]
    },
    {
      "cell_type": "code",
      "source": [],
      "metadata": {
        "id": "Mpba42NdkO3p"
      },
      "execution_count": null,
      "outputs": []
    }
  ]
}