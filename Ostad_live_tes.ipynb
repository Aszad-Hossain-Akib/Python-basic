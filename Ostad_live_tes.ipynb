{
  "nbformat": 4,
  "nbformat_minor": 0,
  "metadata": {
    "colab": {
      "provenance": [],
      "authorship_tag": "ABX9TyOH00ITJ2axB8I1AEHTTvwQ",
      "include_colab_link": true
    },
    "kernelspec": {
      "name": "python3",
      "display_name": "Python 3"
    },
    "language_info": {
      "name": "python"
    }
  },
  "cells": [
    {
      "cell_type": "markdown",
      "metadata": {
        "id": "view-in-github",
        "colab_type": "text"
      },
      "source": [
        "<a href=\"https://colab.research.google.com/github/Aszad-Hossain-Akib/Python-basic/blob/main/Ostad_live_tes.ipynb\" target=\"_parent\"><img src=\"https://colab.research.google.com/assets/colab-badge.svg\" alt=\"Open In Colab\"/></a>"
      ]
    },
    {
      "cell_type": "code",
      "execution_count": 1,
      "metadata": {
        "colab": {
          "base_uri": "https://localhost:8080/"
        },
        "id": "3XqH2xbPomkb",
        "outputId": "fb708d2b-08ea-4b14-8aa1-a9beb59e6954"
      },
      "outputs": [
        {
          "output_type": "stream",
          "name": "stdout",
          "text": [
            "isdfgi\n"
          ]
        }
      ],
      "source": [
        "print('isdfgi')"
      ]
    },
    {
      "cell_type": "markdown",
      "source": [],
      "metadata": {
        "id": "J_9lJx1Go2Ol"
      }
    },
    {
      "cell_type": "code",
      "source": [
        "t_score = int(input(\"Enter the student's score: \"))\n",
        "\n",
        "if t_score >= 90:\n",
        "    grade = \"A\"\n",
        "elif t_score >= 80:\n",
        "    grade = \"B\"\n",
        "elif t_score >= 70:\n",
        "    grade = \"C\"\n",
        "elif t_score >= 60:\n",
        "    grade = \"D\"\n",
        "elif t_score >= 50:\n",
        "    grade = \"E\"\n",
        "elif t_score >= 40:\n",
        "    grade = \"E-\"\n",
        "else:\n",
        "    grade = \"F or Fail\"\n",
        "\n",
        "print(\"Grade of the student is: \",grade)\n"
      ],
      "metadata": {
        "colab": {
          "base_uri": "https://localhost:8080/"
        },
        "id": "CGr3nHSQopxt",
        "outputId": "b224118d-4177-4f0a-88d8-390626e23921"
      },
      "execution_count": 18,
      "outputs": [
        {
          "output_type": "stream",
          "name": "stdout",
          "text": [
            "Enter the student's score: 44\n",
            "Grade of the student is:  E-\n"
          ]
        }
      ]
    },
    {
      "cell_type": "code",
      "source": [],
      "metadata": {
        "id": "WUKrv67ntZzW"
      },
      "execution_count": 3,
      "outputs": []
    }
  ]
}